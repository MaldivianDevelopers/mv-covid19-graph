{
 "cells": [
  {
   "cell_type": "markdown",
   "metadata": {
    "collapsed": true,
    "pycharm": {
     "name": "#%% md\n"
    }
   },
   "source": [
    "## Statistical Experiments on the data"
   ]
  },
  {
   "cell_type": "code",
   "source": [
    "import pandas\n",
    "nodes = pandas.read_csv(\"../nodes_official.csv\")\n",
    "edges = pandas.read_csv(\"../edges_official.csv\")\n",
    "nodes"
   ],
   "metadata": {
    "collapsed": false,
    "pycharm": {
     "name": "#%%\n"
    }
   },
   "execution_count": 2,
   "outputs": [
    {
     "data": {
      "text/plain": "             ID      Case  Age  Gender   Nationality Condition  \\\n0      MAV00001  MAV00001   49  Female        Turkey    Stable   \n1      MAV00002  MAV00002   56    Male  South Africa    Stable   \n2      MAV00003  MAV00003   69    Male         Italy    Stable   \n3      MAV00004  MAV00004   67  Female         Italy    Stable   \n4      MAV00005  MAV00005   27  Female       Germany    Stable   \n...         ...       ...  ...     ...           ...       ...   \n14880  MAV14881  MAV14881    9    Male      Maldives    Stable   \n14881  MAV14882  MAV14882   30  Female      Maldives    Stable   \n14882  MAV14883  MAV14883   45    Male      Maldives    Stable   \n14883  MAV14884  MAV14884   29  Female        France    Stable   \n14884  MAV14885  MAV14885  NaN    Male        Latvia    Stable   \n\n             Transmission   Cluster     Confirmed On   Recovered On  \\\n0      Local Transmission       NaN    07 March 2020  21 March 2020   \n1      Local Transmission       NaN    07 March 2020  23 March 2020   \n2                Imported       NaN    08 March 2020  20 March 2020   \n3                Imported       NaN    08 March 2020  20 March 2020   \n4                Imported       NaN    09 March 2020  23 March 2020   \n...                   ...       ...              ...            ...   \n14880    Cluster of Cases  HF158102  22 January 2021            NaN   \n14881    Cluster of Cases  HF158102  22 January 2021            NaN   \n14882    Cluster of Cases       NaN  22 January 2021            NaN   \n14883    Cluster of Cases       NaN  23 January 2021            NaN   \n14884    Cluster of Cases     ANTK1  23 January 2021            NaN   \n\n       Discharged On Deceased On  \n0      23 March 2020         NaN  \n1      23 March 2020         NaN  \n2      31 March 2020         NaN  \n3      31 March 2020         NaN  \n4      29 March 2020         NaN  \n...              ...         ...  \n14880            NaN         NaN  \n14881            NaN         NaN  \n14882            NaN         NaN  \n14883            NaN         NaN  \n14884            NaN         NaN  \n\n[14885 rows x 12 columns]",
      "text/html": "<div>\n<style scoped>\n    .dataframe tbody tr th:only-of-type {\n        vertical-align: middle;\n    }\n\n    .dataframe tbody tr th {\n        vertical-align: top;\n    }\n\n    .dataframe thead th {\n        text-align: right;\n    }\n</style>\n<table border=\"1\" class=\"dataframe\">\n  <thead>\n    <tr style=\"text-align: right;\">\n      <th></th>\n      <th>ID</th>\n      <th>Case</th>\n      <th>Age</th>\n      <th>Gender</th>\n      <th>Nationality</th>\n      <th>Condition</th>\n      <th>Transmission</th>\n      <th>Cluster</th>\n      <th>Confirmed On</th>\n      <th>Recovered On</th>\n      <th>Discharged On</th>\n      <th>Deceased On</th>\n    </tr>\n  </thead>\n  <tbody>\n    <tr>\n      <th>0</th>\n      <td>MAV00001</td>\n      <td>MAV00001</td>\n      <td>49</td>\n      <td>Female</td>\n      <td>Turkey</td>\n      <td>Stable</td>\n      <td>Local Transmission</td>\n      <td>NaN</td>\n      <td>07 March 2020</td>\n      <td>21 March 2020</td>\n      <td>23 March 2020</td>\n      <td>NaN</td>\n    </tr>\n    <tr>\n      <th>1</th>\n      <td>MAV00002</td>\n      <td>MAV00002</td>\n      <td>56</td>\n      <td>Male</td>\n      <td>South Africa</td>\n      <td>Stable</td>\n      <td>Local Transmission</td>\n      <td>NaN</td>\n      <td>07 March 2020</td>\n      <td>23 March 2020</td>\n      <td>23 March 2020</td>\n      <td>NaN</td>\n    </tr>\n    <tr>\n      <th>2</th>\n      <td>MAV00003</td>\n      <td>MAV00003</td>\n      <td>69</td>\n      <td>Male</td>\n      <td>Italy</td>\n      <td>Stable</td>\n      <td>Imported</td>\n      <td>NaN</td>\n      <td>08 March 2020</td>\n      <td>20 March 2020</td>\n      <td>31 March 2020</td>\n      <td>NaN</td>\n    </tr>\n    <tr>\n      <th>3</th>\n      <td>MAV00004</td>\n      <td>MAV00004</td>\n      <td>67</td>\n      <td>Female</td>\n      <td>Italy</td>\n      <td>Stable</td>\n      <td>Imported</td>\n      <td>NaN</td>\n      <td>08 March 2020</td>\n      <td>20 March 2020</td>\n      <td>31 March 2020</td>\n      <td>NaN</td>\n    </tr>\n    <tr>\n      <th>4</th>\n      <td>MAV00005</td>\n      <td>MAV00005</td>\n      <td>27</td>\n      <td>Female</td>\n      <td>Germany</td>\n      <td>Stable</td>\n      <td>Imported</td>\n      <td>NaN</td>\n      <td>09 March 2020</td>\n      <td>23 March 2020</td>\n      <td>29 March 2020</td>\n      <td>NaN</td>\n    </tr>\n    <tr>\n      <th>...</th>\n      <td>...</td>\n      <td>...</td>\n      <td>...</td>\n      <td>...</td>\n      <td>...</td>\n      <td>...</td>\n      <td>...</td>\n      <td>...</td>\n      <td>...</td>\n      <td>...</td>\n      <td>...</td>\n      <td>...</td>\n    </tr>\n    <tr>\n      <th>14880</th>\n      <td>MAV14881</td>\n      <td>MAV14881</td>\n      <td>9</td>\n      <td>Male</td>\n      <td>Maldives</td>\n      <td>Stable</td>\n      <td>Cluster of Cases</td>\n      <td>HF158102</td>\n      <td>22 January 2021</td>\n      <td>NaN</td>\n      <td>NaN</td>\n      <td>NaN</td>\n    </tr>\n    <tr>\n      <th>14881</th>\n      <td>MAV14882</td>\n      <td>MAV14882</td>\n      <td>30</td>\n      <td>Female</td>\n      <td>Maldives</td>\n      <td>Stable</td>\n      <td>Cluster of Cases</td>\n      <td>HF158102</td>\n      <td>22 January 2021</td>\n      <td>NaN</td>\n      <td>NaN</td>\n      <td>NaN</td>\n    </tr>\n    <tr>\n      <th>14882</th>\n      <td>MAV14883</td>\n      <td>MAV14883</td>\n      <td>45</td>\n      <td>Male</td>\n      <td>Maldives</td>\n      <td>Stable</td>\n      <td>Cluster of Cases</td>\n      <td>NaN</td>\n      <td>22 January 2021</td>\n      <td>NaN</td>\n      <td>NaN</td>\n      <td>NaN</td>\n    </tr>\n    <tr>\n      <th>14883</th>\n      <td>MAV14884</td>\n      <td>MAV14884</td>\n      <td>29</td>\n      <td>Female</td>\n      <td>France</td>\n      <td>Stable</td>\n      <td>Cluster of Cases</td>\n      <td>NaN</td>\n      <td>23 January 2021</td>\n      <td>NaN</td>\n      <td>NaN</td>\n      <td>NaN</td>\n    </tr>\n    <tr>\n      <th>14884</th>\n      <td>MAV14885</td>\n      <td>MAV14885</td>\n      <td>NaN</td>\n      <td>Male</td>\n      <td>Latvia</td>\n      <td>Stable</td>\n      <td>Cluster of Cases</td>\n      <td>ANTK1</td>\n      <td>23 January 2021</td>\n      <td>NaN</td>\n      <td>NaN</td>\n      <td>NaN</td>\n    </tr>\n  </tbody>\n</table>\n<p>14885 rows × 12 columns</p>\n</div>"
     },
     "execution_count": 2,
     "metadata": {},
     "output_type": "execute_result"
    }
   ]
  },
  {
   "cell_type": "markdown",
   "source": [
    "#### Cluster Stats"
   ],
   "metadata": {
    "collapsed": false,
    "pycharm": {
     "name": "#%% md\n"
    }
   }
  },
  {
   "cell_type": "code",
   "execution_count": 10,
   "outputs": [
    {
     "name": "stdout",
     "output_type": "stream",
     "text": [
      "RFLH        196\n",
      "Travel      192\n",
      "COV         133\n",
      "STC         127\n",
      "AMH         112\n",
      "SHEWD1      103\n",
      "CHEC         95\n",
      "MND          90\n",
      "CCC          87\n",
      "OLHV1        83\n",
      "OBLU1        82\n",
      "GABL         79\n",
      "KDKR         76\n",
      "POL          72\n",
      "CRGO         72\n",
      "LKHD         65\n",
      "KMMA         62\n",
      "SGN          56\n",
      "HP2N3-33     56\n",
      "LLY          53\n",
      "Name: Cluster, dtype: int64\n"
     ]
    }
   ],
   "source": [
    "cluster_counts = nodes['Cluster'].value_counts()\n",
    "print(cluster_counts[:20])"
   ],
   "metadata": {
    "collapsed": false,
    "pycharm": {
     "name": "#%%\n"
    }
   }
  },
  {
   "cell_type": "code",
   "execution_count": 13,
   "outputs": [
    {
     "name": "stdout",
     "output_type": "stream",
     "text": [
      "30    476\n",
      "32    462\n",
      "28    442\n",
      "31    441\n",
      "35    425\n",
      "25    425\n",
      "27    413\n",
      "26    405\n",
      "33    403\n",
      "24    396\n",
      "34    395\n",
      "29    375\n",
      "37    360\n",
      "36    359\n",
      "23    350\n",
      "38    346\n",
      "22    312\n",
      "40    308\n",
      "39    261\n",
      "41    237\n",
      "Name: Age, dtype: int64\n"
     ]
    }
   ],
   "source": [
    "cluster_counts = nodes['Age'].value_counts()\n",
    "print(cluster_counts[:20])"
   ],
   "metadata": {
    "collapsed": false,
    "pycharm": {
     "name": "#%%\n"
    }
   }
  }
 ],
 "metadata": {
  "kernelspec": {
   "display_name": "Python 3",
   "language": "python",
   "name": "python3"
  },
  "language_info": {
   "codemirror_mode": {
    "name": "ipython",
    "version": 2
   },
   "file_extension": ".py",
   "mimetype": "text/x-python",
   "name": "python",
   "nbconvert_exporter": "python",
   "pygments_lexer": "ipython2",
   "version": "2.7.6"
  }
 },
 "nbformat": 4,
 "nbformat_minor": 0
}